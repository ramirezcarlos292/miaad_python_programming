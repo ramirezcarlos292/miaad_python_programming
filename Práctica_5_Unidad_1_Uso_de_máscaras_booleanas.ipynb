{
  "nbformat": 4,
  "nbformat_minor": 0,
  "metadata": {
    "colab": {
      "provenance": [],
      "authorship_tag": "ABX9TyMER6Gb/xCHWRhTf80VZh8Z",
      "include_colab_link": true
    },
    "kernelspec": {
      "name": "python3",
      "display_name": "Python 3"
    },
    "language_info": {
      "name": "python"
    }
  },
  "cells": [
    {
      "cell_type": "markdown",
      "metadata": {
        "id": "view-in-github",
        "colab_type": "text"
      },
      "source": [
        "<a href=\"https://colab.research.google.com/github/ramirezcarlos292/miaad_python_programming/blob/main/Pr%C3%A1ctica_5_Unidad_1_Uso_de_m%C3%A1scaras_booleanas.ipynb\" target=\"_parent\"><img src=\"https://colab.research.google.com/assets/colab-badge.svg\" alt=\"Open In Colab\"/></a>"
      ]
    },
    {
      "cell_type": "markdown",
      "source": [
        "# Uso de máscaras booleanas.\n",
        "\n",
        "Instrucciones: <br>\n",
        "Crea un arreglo unidimensional con 15 números aleatorios entre 1 y 50.\n",
        "\n",
        "Luego:\n",
        "\n",
        "- Selecciona los elementos mayores que 25 utilizando una máscara booleana.\n",
        "- Cuenta cuántos elementos son mayores que 25."
      ],
      "metadata": {
        "id": "UtDznxBwKVOm"
      }
    },
    {
      "cell_type": "code",
      "execution_count": null,
      "metadata": {
        "id": "dPCRH60FKKyE"
      },
      "outputs": [],
      "source": [
        "import numpy as np"
      ]
    },
    {
      "cell_type": "code",
      "source": [
        "# Crea un arreglo unidimensional con 15 números aleatorios entre 1 y 50.\n",
        "array = np.random.randint(1, 50, size=(1, 15))\n",
        "array"
      ],
      "metadata": {
        "colab": {
          "base_uri": "https://localhost:8080/"
        },
        "id": "xkRl1GaMKT3L",
        "outputId": "699289d2-f140-477e-df15-efd82904657b"
      },
      "execution_count": null,
      "outputs": [
        {
          "output_type": "execute_result",
          "data": {
            "text/plain": [
              "array([[39,  8, 31, 19, 28, 13,  7, 14, 43,  3, 17, 48, 47, 35, 44]])"
            ]
          },
          "metadata": {},
          "execution_count": 14
        }
      ]
    },
    {
      "cell_type": "code",
      "source": [
        "# Selecciona los elementos mayores que 25 utilizando una máscara booleana.\n",
        "array_masked = array[array > 25]\n",
        "array_masked"
      ],
      "metadata": {
        "colab": {
          "base_uri": "https://localhost:8080/"
        },
        "id": "tEjjs0RVKqkT",
        "outputId": "493768d3-228a-4ba2-ce65-f3663b884ef2"
      },
      "execution_count": null,
      "outputs": [
        {
          "output_type": "execute_result",
          "data": {
            "text/plain": [
              "array([39, 31, 28, 43, 48, 47, 35, 44])"
            ]
          },
          "metadata": {},
          "execution_count": 15
        }
      ]
    },
    {
      "cell_type": "code",
      "source": [
        "# Cuenta cuántos elementos son mayores que 25.\n",
        "len(array_masked)"
      ],
      "metadata": {
        "colab": {
          "base_uri": "https://localhost:8080/"
        },
        "id": "6VdXF0gKLEL7",
        "outputId": "51bb200c-e559-45fc-9f93-8eff4d8d5cc3"
      },
      "execution_count": null,
      "outputs": [
        {
          "output_type": "execute_result",
          "data": {
            "text/plain": [
              "8"
            ]
          },
          "metadata": {},
          "execution_count": 16
        }
      ]
    },
    {
      "cell_type": "code",
      "source": [],
      "metadata": {
        "id": "9lDalbnbLggt"
      },
      "execution_count": null,
      "outputs": []
    }
  ]
}