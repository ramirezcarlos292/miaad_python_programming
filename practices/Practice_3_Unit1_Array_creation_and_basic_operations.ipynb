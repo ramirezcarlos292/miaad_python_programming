{
  "nbformat": 4,
  "nbformat_minor": 0,
  "metadata": {
    "colab": {
      "provenance": [],
      "authorship_tag": "ABX9TyO8uSRmYi0ZqzLAtVIKh5xs",
      "include_colab_link": true
    },
    "kernelspec": {
      "name": "python3",
      "display_name": "Python 3"
    },
    "language_info": {
      "name": "python"
    }
  },
  "cells": [
    {
      "cell_type": "markdown",
      "metadata": {
        "id": "view-in-github",
        "colab_type": "text"
      },
      "source": [
        "<a href=\"https://colab.research.google.com/github/ramirezcarlos292/miaad_python_programming/blob/main/practices/Practice_3_Unit1_Array_creation_and_basic_operations.ipynb\" target=\"_parent\"><img src=\"https://colab.research.google.com/assets/colab-badge.svg\" alt=\"Open In Colab\"/></a>"
      ]
    },
    {
      "cell_type": "markdown",
      "source": [
        "# Creación de un arreglo y operaciones básicas.\n",
        "\n",
        "Instrucciones: <br>\n",
        "Crea un arreglo unidimensional de 20 elementos con valores aleatorios entre 1 y 100. Luego, realiza las siguientes operaciones:\n",
        "\n",
        "- Encuentra el valor máximo del arreglo.\n",
        "- Encuentra el valor mínimo del arreglo.\n",
        "- Calcula la media del arreglo.\n",
        "- Suma 10 a cada elemento del arreglo."
      ],
      "metadata": {
        "id": "3lYKiscwvXr0"
      }
    },
    {
      "cell_type": "code",
      "execution_count": null,
      "metadata": {
        "id": "B70SgE_vhjQO"
      },
      "outputs": [],
      "source": [
        "import numpy as np\n",
        "import random"
      ]
    },
    {
      "cell_type": "code",
      "source": [
        "array = np.array([random.randint(1, 101) for i in range(20)])\n",
        "array"
      ],
      "metadata": {
        "colab": {
          "base_uri": "https://localhost:8080/"
        },
        "id": "H0_Fynk3vwmC",
        "outputId": "cce50a55-fba5-4a79-af33-d427caf76e49"
      },
      "execution_count": null,
      "outputs": [
        {
          "output_type": "execute_result",
          "data": {
            "text/plain": [
              "array([79, 68, 72, 32, 91, 80, 64, 81, 66, 64, 21, 82, 62, 68, 14, 70, 71,\n",
              "       44, 66, 38])"
            ]
          },
          "metadata": {},
          "execution_count": 42
        }
      ]
    },
    {
      "cell_type": "code",
      "source": [
        "maxx = np.max(array)\n",
        "print(f\"Valor máximo del arreglo: {maxx}\")"
      ],
      "metadata": {
        "colab": {
          "base_uri": "https://localhost:8080/"
        },
        "id": "NBKmjDgsvzUe",
        "outputId": "76c5ac76-bf8b-42fa-fa7f-41b020485d1f"
      },
      "execution_count": null,
      "outputs": [
        {
          "output_type": "stream",
          "name": "stdout",
          "text": [
            "Valor máximo del arreglo: 91\n"
          ]
        }
      ]
    },
    {
      "cell_type": "code",
      "source": [
        "minn = np.min(array)\n",
        "print(f\"Valor mínimo del arreglo: {minn}\")"
      ],
      "metadata": {
        "colab": {
          "base_uri": "https://localhost:8080/"
        },
        "id": "uluoxfYev4Vm",
        "outputId": "7f3da7ec-1228-41d7-834f-146bfce72faa"
      },
      "execution_count": null,
      "outputs": [
        {
          "output_type": "stream",
          "name": "stdout",
          "text": [
            "Valor mínimo del arreglo: 14\n"
          ]
        }
      ]
    },
    {
      "cell_type": "code",
      "source": [
        "media = np.mean(array)\n",
        "print(f\"Media del arreglo: {media}\")"
      ],
      "metadata": {
        "colab": {
          "base_uri": "https://localhost:8080/"
        },
        "id": "FgB97Q8KwSjl",
        "outputId": "df212c8a-72ff-4afa-9d27-fd1cf9ac0048"
      },
      "execution_count": null,
      "outputs": [
        {
          "output_type": "stream",
          "name": "stdout",
          "text": [
            "Media del arreglo: 61.65\n"
          ]
        }
      ]
    },
    {
      "cell_type": "code",
      "source": [
        "array = array + 10\n",
        "print(f\"Suma 10 a cada elemento del arreglo: \")\n",
        "array"
      ],
      "metadata": {
        "colab": {
          "base_uri": "https://localhost:8080/"
        },
        "id": "2TdaPt4dwsTw",
        "outputId": "97fe674b-ced5-48db-d890-cd050ceba2c6"
      },
      "execution_count": null,
      "outputs": [
        {
          "output_type": "stream",
          "name": "stdout",
          "text": [
            "Suma 10 a cada elemento del arreglo: \n"
          ]
        },
        {
          "output_type": "execute_result",
          "data": {
            "text/plain": [
              "array([ 89,  78,  82,  42, 101,  90,  74,  91,  76,  74,  31,  92,  72,\n",
              "        78,  24,  80,  81,  54,  76,  48])"
            ]
          },
          "metadata": {},
          "execution_count": 46
        }
      ]
    },
    {
      "cell_type": "code",
      "source": [],
      "metadata": {
        "id": "qhc8im1UxtdO"
      },
      "execution_count": null,
      "outputs": []
    }
  ]
}